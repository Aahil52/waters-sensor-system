{
 "cells": [
  {
   "cell_type": "markdown",
   "id": "171a55b9",
   "metadata": {},
   "source": [
    "# Sensor Calibration Notebook\n",
    "\n",
    "This notebook guides you through calibrating the sensor system."
   ]
  },
  {
   "cell_type": "code",
   "execution_count": null,
   "id": "eab4ebae",
   "metadata": {},
   "outputs": [
    {
     "data": {
      "text/plain": [
       "<module 'calibration.calibration_session' from '/home/water/Documents/sensor-system/calibration/calibration_session.py'>"
      ]
     },
     "execution_count": 14,
     "metadata": {},
     "output_type": "execute_result"
    }
   ],
   "source": [
    "import importlib\n",
    "import ipywidgets as widgets\n",
    "from IPython.display import display\n",
    "\n",
    "import calibration.calibration_session\n",
    "importlib.reload(calibration.calibration_session)\n",
    "from calibration.calibration_session import CalibrationSession"
   ]
  },
  {
   "cell_type": "markdown",
   "id": "199b9410",
   "metadata": {},
   "source": [
    "### Select Sensor"
   ]
  },
  {
   "cell_type": "code",
   "execution_count": 5,
   "id": "a0ee3910",
   "metadata": {},
   "outputs": [
    {
     "data": {
      "application/vnd.jupyter.widget-view+json": {
       "model_id": "dc09833744a34a2aa4743285d44c259a",
       "version_major": 2,
       "version_minor": 0
      },
      "text/plain": [
       "Dropdown(description='Sensor:', options=('pH', 'Turbidity', 'TDS'), value='pH')"
      ]
     },
     "metadata": {},
     "output_type": "display_data"
    }
   ],
   "source": [
    "sensor = widgets.Dropdown(\n",
    "    options=[\"pH\", \"Turbidity\", \"TDS\"],\n",
    "    value=\"pH\",\n",
    "    description=\"Sensor:\"\n",
    ")\n",
    "display(sensor)"
   ]
  },
  {
   "cell_type": "code",
   "execution_count": 8,
   "id": "ed411479",
   "metadata": {},
   "outputs": [
    {
     "ename": "AttributeError",
     "evalue": "'CalibrationSession' object has no attribute 'sensor_units'",
     "output_type": "error",
     "traceback": [
      "\u001b[31m---------------------------------------------------------------------------\u001b[39m",
      "\u001b[31mAttributeError\u001b[39m                            Traceback (most recent call last)",
      "\u001b[36mCell\u001b[39m\u001b[36m \u001b[39m\u001b[32mIn[8]\u001b[39m\u001b[32m, line 1\u001b[39m\n\u001b[32m----> \u001b[39m\u001b[32m1\u001b[39m cs = \u001b[43mCalibrationSession\u001b[49m\u001b[43m(\u001b[49m\u001b[43msensor\u001b[49m\u001b[43m.\u001b[49m\u001b[43mvalue\u001b[49m\u001b[43m)\u001b[49m\n",
      "\u001b[36mFile \u001b[39m\u001b[32m~/Documents/sensor-system/calibration/calibration_session.py:33\u001b[39m, in \u001b[36mCalibrationSession.__init__\u001b[39m\u001b[34m(self, sensor, window_size, stabilization_tolerance, sampling_rate)\u001b[39m\n\u001b[32m     27\u001b[39m \u001b[38;5;66;03m# Set up widgets\u001b[39;00m\n\u001b[32m     28\u001b[39m \u001b[38;5;28mself\u001b[39m.standard_input = widgets.IntText(\n\u001b[32m     29\u001b[39m     value=\u001b[32m0\u001b[39m,\n\u001b[32m     30\u001b[39m     description=\u001b[33m\"\u001b[39m\u001b[33mStandard:\u001b[39m\u001b[33m\"\u001b[39m\n\u001b[32m     31\u001b[39m )\n\u001b[32m     32\u001b[39m \u001b[38;5;28mself\u001b[39m.unit_display = widgets.Label(\n\u001b[32m---> \u001b[39m\u001b[32m33\u001b[39m     value=\u001b[33mf\u001b[39m\u001b[33m\"\u001b[39m\u001b[38;5;132;01m{\u001b[39;00m\u001b[38;5;28;43mself\u001b[39;49m\u001b[43m.\u001b[49m\u001b[43msensor_units\u001b[49m\u001b[38;5;132;01m}\u001b[39;00m\u001b[33m\"\u001b[39m,\n\u001b[32m     34\u001b[39m     style={\u001b[33m'\u001b[39m\u001b[33mdescription_width\u001b[39m\u001b[33m'\u001b[39m: \u001b[33m'\u001b[39m\u001b[33mauto\u001b[39m\u001b[33m'\u001b[39m}\n\u001b[32m     35\u001b[39m )\n\u001b[32m     37\u001b[39m \u001b[38;5;28mself\u001b[39m.start_button = widgets.Button(\n\u001b[32m     38\u001b[39m     description=\u001b[33m'\u001b[39m\u001b[33mStart Sampling\u001b[39m\u001b[33m'\u001b[39m,\n\u001b[32m     39\u001b[39m     button_style=\u001b[33m'\u001b[39m\u001b[33m'\u001b[39m,\n\u001b[32m     40\u001b[39m     layout=widgets.Layout(margin=\u001b[33m'\u001b[39m\u001b[33mauto auto auto 20px\u001b[39m\u001b[33m'\u001b[39m)\n\u001b[32m     41\u001b[39m )\n\u001b[32m     42\u001b[39m \u001b[38;5;28mself\u001b[39m.start_button.on_click(\u001b[38;5;28mself\u001b[39m.start_sampling)\n",
      "\u001b[31mAttributeError\u001b[39m: 'CalibrationSession' object has no attribute 'sensor_units'"
     ]
    }
   ],
   "source": [
    "cs = CalibrationSession(sensor.value)"
   ]
  },
  {
   "cell_type": "code",
   "execution_count": 26,
   "id": "1d2422ea",
   "metadata": {},
   "outputs": [
    {
     "ename": "AttributeError",
     "evalue": "'CalibrationSession' object has no attribute 'fig'",
     "output_type": "error",
     "traceback": [
      "\u001b[31m---------------------------------------------------------------------------\u001b[39m",
      "\u001b[31mAttributeError\u001b[39m                            Traceback (most recent call last)",
      "\u001b[36mCell\u001b[39m\u001b[36m \u001b[39m\u001b[32mIn[26]\u001b[39m\u001b[32m, line 1\u001b[39m\n\u001b[32m----> \u001b[39m\u001b[32m1\u001b[39m \u001b[38;5;28mprint\u001b[39m(\u001b[43mcs\u001b[49m\u001b[43m.\u001b[49m\u001b[43mfig\u001b[49m)\n\u001b[32m      2\u001b[39m \u001b[38;5;28mprint\u001b[39m(cs.standards)\n",
      "\u001b[31mAttributeError\u001b[39m: 'CalibrationSession' object has no attribute 'fig'"
     ]
    }
   ],
   "source": [
    "print(cs.fig)\n",
    "print(cs.standards)"
   ]
  }
 ],
 "metadata": {
  "kernelspec": {
   "display_name": ".venv",
   "language": "python",
   "name": "python3"
  },
  "language_info": {
   "codemirror_mode": {
    "name": "ipython",
    "version": 3
   },
   "file_extension": ".py",
   "mimetype": "text/x-python",
   "name": "python",
   "nbconvert_exporter": "python",
   "pygments_lexer": "ipython3",
   "version": "3.11.2"
  }
 },
 "nbformat": 4,
 "nbformat_minor": 5
}
